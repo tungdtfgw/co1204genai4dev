{
 "cells": [
  {
   "cell_type": "markdown",
   "metadata": {},
   "source": [
    "## Part 1: Understanding Fine-Tuning\n",
    "\n",
    "### What is Fine-Tuning?\n",
    "\n",
    "Fine-tuning is like taking a graduate (pre-trained model) and giving them specialized training for your specific job.\n",
    "\n",
    "### Visual Explanation:\n",
    "\n",
    "| Stage | Model Knowledge | Example |\n",
    "|-------|----------------|----------|\n",
    "| **Pre-trained Model** | General language understanding | Knows \"good\" and \"bad\" are opposites |\n",
    "| **Your Data** | Domain-specific examples | Movie reviews with sentiments |\n",
    "| **Fine-tuned Model** | Specialized expert | Understands \"cinematography\" indicates movie context |\n",
    "\n",
    "### Real-World Analogy:\n",
    "\n",
    "```\n",
    "BEFORE Fine-tuning:\n",
    "Model: \"This transformer is good\" \n",
    "→ Confused: Electrical transformer? Movie Transformers?\n",
    "\n",
    "AFTER Fine-tuning on Electrical Data:\n",
    "Model: \"This transformer is good\"\n",
    "→ Understands: Electrical equipment context\n",
    "```\n",
    "\n",
    "Original tutorial: https://www.kaggle.com/code/ibrahimqasimi/distilbert-fine-tuning-on-imdb-50k-nlp-tutorial\n",
    "\n",
    "Simplified by tungdt27 for this course."
   ]
  },
  {
   "cell_type": "markdown",
   "metadata": {},
   "source": [
    "## The Fine-Tuning Process\n",
    "\n",
    "### Step-by-Step Flow:\n",
    "\n",
    "```\n",
    "1. LOAD PRE-TRAINED MODEL\n",
    "         ↓\n",
    "2. PREPARE YOUR DATA\n",
    "         ↓\n",
    "3. SET TRAINING PARAMETERS\n",
    "         ↓\n",
    "4. TRAIN (FINE-TUNE)\n",
    "         ↓\n",
    "5. EVALUATE PERFORMANCE\n",
    "```"
   ]
  },
  {
   "cell_type": "markdown",
   "metadata": {},
   "source": [
    "## Setup: Install Required Libraries"
   ]
  },
  {
   "cell_type": "code",
   "execution_count": null,
   "metadata": {
    "execution": {
     "iopub.execute_input": "2025-09-11T04:48:42.573492Z",
     "iopub.status.busy": "2025-09-11T04:48:42.572849Z",
     "iopub.status.idle": "2025-09-11T04:49:57.980822Z",
     "shell.execute_reply": "2025-09-11T04:49:57.979765Z",
     "shell.execute_reply.started": "2025-09-11T04:48:42.573468Z"
    },
    "trusted": true
   },
   "outputs": [],
   "source": [
    "# Install required packages for fine-tuning\n",
    "!pip install -q huggingface_hub\n",
    "!pip install -q scikit-learn\n",
    "!pip install -q torch torchvision torchaudio\n",
    "\n",
    "print(\"All packages installed successfully!\")"
   ]
  },
  {
   "cell_type": "markdown",
   "metadata": {},
   "source": [
    "## Import all necessary libraries"
   ]
  },
  {
   "cell_type": "code",
   "execution_count": null,
   "metadata": {
    "execution": {
     "iopub.execute_input": "2025-09-11T04:49:57.982902Z",
     "iopub.status.busy": "2025-09-11T04:49:57.982627Z",
     "iopub.status.idle": "2025-09-11T04:50:23.958868Z",
     "shell.execute_reply": "2025-09-11T04:50:23.958240Z",
     "shell.execute_reply.started": "2025-09-11T04:49:57.982877Z"
    },
    "trusted": true
   },
   "outputs": [
    {
     "name": "stdout",
     "output_type": "stream",
     "text": [
      "Using device: mps (Apple Silicon)\n",
      "\n",
      "Ready for fine-tuning!\n"
     ]
    }
   ],
   "source": [
    "import os\n",
    "# Comment 2 following lines if you want to use TensorFlow rather than PyTorch\n",
    "os.environ[\"USE_TF\"] = \"0\"  # Disable TensorFlow backend\n",
    "os.environ[\"USE_TORCH\"] = \"1\"  # Use PyTorch backend\n",
    "\n",
    "import pandas as pd\n",
    "import numpy as np\n",
    "import torch\n",
    "\n",
    "from transformers import (\n",
    "    AutoTokenizer,\n",
    "    AutoModelForSequenceClassification,\n",
    "    Trainer,\n",
    "    DataCollatorWithPadding\n",
    ")\n",
    "from datasets import Dataset\n",
    "from sklearn.model_selection import train_test_split\n",
    "from sklearn.metrics import accuracy_score, classification_report, confusion_matrix\n",
    "import matplotlib.pyplot as plt\n",
    "import seaborn as sns\n",
    "import warnings\n",
    "warnings.filterwarnings('ignore')\n",
    "\n",
    "# Choose corresponding device (GPU/CPU/MPS)\n",
    "if torch.cuda.is_available():\n",
    "    device = torch.device('cuda')\n",
    "    print(f\"Using device: {device}\")\n",
    "    print(f\"GPU: {torch.cuda.get_device_name(0)}\")\n",
    "elif torch.backends.mps.is_available():\n",
    "    # For Mac M1/2/3/4 chips - use MPS but with caution\n",
    "    device = torch.device('mps')\n",
    "    print(f\"Using device: {device} (Apple Silicon)\")\n",
    "else:\n",
    "    device = torch.device('cpu')\n",
    "    print(f\"Using device: {device}\")\n",
    "    print(\"No GPU found. Training will be slower on CPU.\")\n",
    "\n",
    "\n",
    "print(\"\\nReady for fine-tuning!\")"
   ]
  },
  {
   "cell_type": "markdown",
   "metadata": {},
   "source": [
    "## Understanding Pre-trained Models\n",
    "\n",
    "### Popular Models for Fine-tuning:\n",
    "\n",
    "| Model | Size | Speed | Use Case |\n",
    "|-------|------|--------|----------|\n",
    "| **DistilBERT** | 66M params | Fast | Quick experiments, limited resources |\n",
    "| **BERT-base** | 110M params | Medium | Balance of speed and accuracy |\n",
    "| **RoBERTa** | 125M params | Slower | Better accuracy, more resources |\n",
    "| **ALBERT** | 12M params | Very Fast | Mobile/edge deployment |\n",
    "\n",
    "### We'll use DistilBERT because:\n",
    "- Fast training (perfect for 2-hour session)\n",
    "- Good performance\n",
    "- Small enough for Google Colab\n",
    "- Easy to understand"
   ]
  },
  {
   "cell_type": "markdown",
   "metadata": {},
   "source": [
    "---\n",
    "\n",
    "# Part 2: Hands-On Fine-Tuning with IMDB Data\n",
    "\n",
    "## Let's build our custom movie sentiment analyzer!\n",
    "\n",
    "---"
   ]
  },
  {
   "cell_type": "markdown",
   "metadata": {},
   "source": [
    "## Step 1: Load and Prepare Data"
   ]
  },
  {
   "cell_type": "code",
   "execution_count": 56,
   "metadata": {
    "execution": {
     "iopub.execute_input": "2025-09-11T04:50:23.959884Z",
     "iopub.status.busy": "2025-09-11T04:50:23.959485Z",
     "iopub.status.idle": "2025-09-11T04:50:24.227309Z",
     "shell.execute_reply": "2025-09-11T04:50:24.226692Z",
     "shell.execute_reply.started": "2025-09-11T04:50:23.959865Z"
    },
    "trusted": true
   },
   "outputs": [
    {
     "name": "stdout",
     "output_type": "stream",
     "text": [
      "Loaded IMDB reviews!\n",
      "\n",
      "Dataset Info:\n",
      "Total samples: 5,000\n",
      "\n",
      "Sentiment Distribution:\n",
      "sentiment\n",
      "negative    2532\n",
      "positive    2468\n",
      "Name: count, dtype: int64\n",
      "\n",
      "Sample reviews:\n"
     ]
    },
    {
     "data": {
      "text/html": [
       "<div>\n",
       "<style scoped>\n",
       "    .dataframe tbody tr th:only-of-type {\n",
       "        vertical-align: middle;\n",
       "    }\n",
       "\n",
       "    .dataframe tbody tr th {\n",
       "        vertical-align: top;\n",
       "    }\n",
       "\n",
       "    .dataframe thead th {\n",
       "        text-align: right;\n",
       "    }\n",
       "</style>\n",
       "<table border=\"1\" class=\"dataframe\">\n",
       "  <thead>\n",
       "    <tr style=\"text-align: right;\">\n",
       "      <th></th>\n",
       "      <th>review</th>\n",
       "      <th>cleaned_review</th>\n",
       "      <th>sentiment</th>\n",
       "    </tr>\n",
       "  </thead>\n",
       "  <tbody>\n",
       "    <tr>\n",
       "      <th>0</th>\n",
       "      <td>One of the other reviewers has mentioned that ...</td>\n",
       "      <td>one of the other reviewers has mentioned that ...</td>\n",
       "      <td>positive</td>\n",
       "    </tr>\n",
       "    <tr>\n",
       "      <th>1</th>\n",
       "      <td>A wonderful little production. &lt;br /&gt;&lt;br /&gt;The...</td>\n",
       "      <td>a wonderful little production the filming tech...</td>\n",
       "      <td>positive</td>\n",
       "    </tr>\n",
       "    <tr>\n",
       "      <th>2</th>\n",
       "      <td>I thought this was a wonderful way to spend ti...</td>\n",
       "      <td>i thought this was a wonderful way to spend ti...</td>\n",
       "      <td>positive</td>\n",
       "    </tr>\n",
       "  </tbody>\n",
       "</table>\n",
       "</div>"
      ],
      "text/plain": [
       "                                              review  \\\n",
       "0  One of the other reviewers has mentioned that ...   \n",
       "1  A wonderful little production. <br /><br />The...   \n",
       "2  I thought this was a wonderful way to spend ti...   \n",
       "\n",
       "                                      cleaned_review sentiment  \n",
       "0  one of the other reviewers has mentioned that ...  positive  \n",
       "1  a wonderful little production the filming tech...  positive  \n",
       "2  i thought this was a wonderful way to spend ti...  positive  "
      ]
     },
     "execution_count": 56,
     "metadata": {},
     "output_type": "execute_result"
    }
   ],
   "source": [
    "# Load the cleaned IMDB dataset\n",
    "try:\n",
    "    # Load data\n",
    "    df = pd.read_csv('IMDB_cleaned.csv')\n",
    "    print(\"Loaded IMDB reviews!\")\n",
    "    text_column = 'cleaned_review'\n",
    "except:\n",
    "    print(\"Data not found.\")\n",
    "    # If no data, stop execution\n",
    "    quit()\n",
    "\n",
    "# Display data info\n",
    "print(f\"\\nDataset Info:\")\n",
    "print(f\"Total samples: {len(df):,}\")\n",
    "print(f\"\\nSentiment Distribution:\")\n",
    "print(df['sentiment'].value_counts())\n",
    "print(f\"\\nSample reviews:\")\n",
    "df.head(3)"
   ]
  },
  {
   "cell_type": "code",
   "execution_count": 59,
   "metadata": {
    "execution": {
     "iopub.execute_input": "2025-09-11T04:50:24.229226Z",
     "iopub.status.busy": "2025-09-11T04:50:24.228997Z",
     "iopub.status.idle": "2025-09-11T04:50:24.241857Z",
     "shell.execute_reply": "2025-09-11T04:50:24.241240Z",
     "shell.execute_reply.started": "2025-09-11T04:50:24.229209Z"
    },
    "trusted": true
   },
   "outputs": [
    {
     "name": "stdout",
     "output_type": "stream",
     "text": [
      "\n",
      "Data ready for fine-tuning!\n"
     ]
    }
   ],
   "source": [
    "# Convert sentiment to numerical labels to prepare for fine-tuning\n",
    "df['label'] = df['sentiment'].map({'positive': 1, 'negative': 0})\n",
    "print(f\"\\nData ready for fine-tuning!\")"
   ]
  },
  {
   "cell_type": "markdown",
   "metadata": {},
   "source": [
    "## Step 2: Split Data into Train/Test Sets"
   ]
  },
  {
   "cell_type": "code",
   "execution_count": 60,
   "metadata": {
    "execution": {
     "iopub.execute_input": "2025-09-11T04:50:24.242833Z",
     "iopub.status.busy": "2025-09-11T04:50:24.242611Z",
     "iopub.status.idle": "2025-09-11T04:50:24.470645Z",
     "shell.execute_reply": "2025-09-11T04:50:24.469979Z",
     "shell.execute_reply.started": "2025-09-11T04:50:24.242817Z"
    },
    "trusted": true
   },
   "outputs": [
    {
     "name": "stdout",
     "output_type": "stream",
     "text": [
      "Data Split Summary:\n",
      "\n",
      "Training Set:\n",
      "   Total: 4,000\n",
      "   Positive: 1,974\n",
      "   Negative: 2,026\n",
      "\n",
      "Test Set:\n",
      "   Total: 1,000\n",
      "   Positive: 494\n",
      "   Negative: 506\n"
     ]
    }
   ],
   "source": [
    "# Split the data: 80% train, 20% test\n",
    "train_texts, test_texts, train_labels, test_labels = train_test_split(\n",
    "    df[text_column].tolist(),\n",
    "    df['label'].tolist(),\n",
    "    test_size=0.2,\n",
    "    random_state=42,\n",
    "    stratify=df['label']  # Keep same ratio of pos/neg in both sets\n",
    ")\n",
    "\n",
    "print(\"Data Split Summary:\")\n",
    "print(f\"\\nTraining Set:\")\n",
    "print(f\"   Total: {len(train_texts):,}\")\n",
    "print(f\"   Positive: {sum(train_labels):,}\")\n",
    "print(f\"   Negative: {len(train_labels) - sum(train_labels):,}\")\n",
    "\n",
    "print(f\"\\nTest Set:\")\n",
    "print(f\"   Total: {len(test_texts):,}\")\n",
    "print(f\"   Positive: {sum(test_labels):,}\")\n",
    "print(f\"   Negative: {len(test_labels) - sum(test_labels):,}\")"
   ]
  },
  {
   "cell_type": "markdown",
   "metadata": {},
   "source": [
    "## Step 3: Load Pre-trained Model and Tokenizer"
   ]
  },
  {
   "cell_type": "code",
   "execution_count": 61,
   "metadata": {
    "execution": {
     "iopub.execute_input": "2025-09-11T04:50:24.471627Z",
     "iopub.status.busy": "2025-09-11T04:50:24.471374Z",
     "iopub.status.idle": "2025-09-11T04:50:28.547697Z",
     "shell.execute_reply": "2025-09-11T04:50:28.546959Z",
     "shell.execute_reply.started": "2025-09-11T04:50:24.471599Z"
    },
    "trusted": true
   },
   "outputs": [
    {
     "name": "stdout",
     "output_type": "stream",
     "text": [
      "Loading model: distilbert-base-uncased\n",
      "This may take a moment...\n",
      "\n",
      "Tokenizer loaded\n"
     ]
    },
    {
     "name": "stderr",
     "output_type": "stream",
     "text": [
      "Some weights of DistilBertForSequenceClassification were not initialized from the model checkpoint at distilbert-base-uncased and are newly initialized: ['classifier.bias', 'classifier.weight', 'pre_classifier.bias', 'pre_classifier.weight']\n",
      "You should probably TRAIN this model on a down-stream task to be able to use it for predictions and inference.\n"
     ]
    },
    {
     "name": "stdout",
     "output_type": "stream",
     "text": [
      "Model loaded\n",
      "\n",
      "Model moved to: mps\n",
      "\n",
      "Model Statistics:\n",
      "   Total parameters: 66,955,010\n",
      "   Trainable parameters: 66,955,010\n",
      "   Model size: ~255.4 MB\n"
     ]
    }
   ],
   "source": [
    "# Choose model\n",
    "MODEL_NAME = 'distilbert-base-uncased'\n",
    "\n",
    "print(f\"Loading model: {MODEL_NAME}\")\n",
    "print(\"This may take a moment...\\n\")\n",
    "\n",
    "# Load tokenizer\n",
    "tokenizer = AutoTokenizer.from_pretrained(MODEL_NAME)\n",
    "print(\"Tokenizer loaded\")\n",
    "\n",
    "# Load model for sequence classification (2 classes: positive/negative)\n",
    "model = AutoModelForSequenceClassification.from_pretrained(\n",
    "    MODEL_NAME,\n",
    "    num_labels=2,  # Binary classification\n",
    "    id2label={0: \"NEGATIVE\", 1: \"POSITIVE\"},\n",
    "    label2id={\"NEGATIVE\": 0, \"POSITIVE\": 1}\n",
    ")\n",
    "print(\"Model loaded\")\n",
    "\n",
    "# Move model to device (GPU/CPU/MPS) if available\n",
    "model = model.to(device)\n",
    "print(f\"\\nModel moved to: {device}\")\n",
    "\n",
    "# Model info\n",
    "total_params = sum(p.numel() for p in model.parameters())\n",
    "trainable_params = sum(p.numel() for p in model.parameters() if p.requires_grad)\n",
    "print(f\"\\nModel Statistics:\")\n",
    "print(f\"   Total parameters: {total_params:,}\")\n",
    "print(f\"   Trainable parameters: {trainable_params:,}\")\n",
    "print(f\"   Model size: ~{total_params * 4 / 1024**2:.1f} MB\")"
   ]
  },
  {
   "cell_type": "markdown",
   "metadata": {},
   "source": [
    "## Step 4: Tokenize the Data\n",
    "\n",
    "### What is Tokenization?\n",
    "Converting text into numbers that the model understands.\n",
    "\n",
    "```\n",
    "\"This movie is great\" → [101, 2023, 3185, 2003, 2307, 102]\n",
    "```"
   ]
  },
  {
   "cell_type": "code",
   "execution_count": 62,
   "metadata": {
    "execution": {
     "iopub.execute_input": "2025-09-11T04:50:28.548957Z",
     "iopub.status.busy": "2025-09-11T04:50:28.548589Z",
     "iopub.status.idle": "2025-09-11T04:50:28.559110Z",
     "shell.execute_reply": "2025-09-11T04:50:28.558421Z",
     "shell.execute_reply.started": "2025-09-11T04:50:28.548911Z"
    },
    "trusted": true
   },
   "outputs": [
    {
     "name": "stdout",
     "output_type": "stream",
     "text": [
      "Tokenization Example:\n",
      "\n",
      "Original text: 'This movie is absolutely fantastic!'\n",
      "\n",
      "Tokenized:\n",
      "  Token IDs: [101, 2023, 3185, 2003, 7078, 10392, 999, 102]\n",
      "  Decoded back: '[CLS] this movie is absolutely fantastic! [SEP]'\n",
      "  Number of tokens: 8\n"
     ]
    }
   ],
   "source": [
    "# Example of tokenization\n",
    "example_text = \"This movie is absolutely fantastic!\"\n",
    "example_tokens = tokenizer(example_text, padding=True, truncation=True, return_tensors='pt')\n",
    "\n",
    "print(\"Tokenization Example:\")\n",
    "print(f\"\\nOriginal text: '{example_text}'\")\n",
    "print(f\"\\nTokenized:\")\n",
    "print(f\"  Token IDs: {example_tokens['input_ids'][0].tolist()}\")\n",
    "print(f\"  Decoded back: '{tokenizer.decode(example_tokens['input_ids'][0])}'\")\n",
    "print(f\"  Number of tokens: {len(example_tokens['input_ids'][0])}\")"
   ]
  },
  {
   "cell_type": "code",
   "execution_count": 63,
   "metadata": {
    "execution": {
     "iopub.execute_input": "2025-09-11T04:50:28.560109Z",
     "iopub.status.busy": "2025-09-11T04:50:28.559805Z",
     "iopub.status.idle": "2025-09-11T04:50:29.410914Z",
     "shell.execute_reply": "2025-09-11T04:50:29.410356Z",
     "shell.execute_reply.started": "2025-09-11T04:50:28.560051Z"
    },
    "trusted": true
   },
   "outputs": [
    {
     "name": "stdout",
     "output_type": "stream",
     "text": [
      "Tokenizing training data...Done!\n",
      "Tokenizing test data...Done!\n",
      "\n",
      "Datasets created and ready for training!\n"
     ]
    }
   ],
   "source": [
    "# Tokenize all our data\n",
    "def tokenize_function(texts):\n",
    "    return tokenizer(\n",
    "        texts,\n",
    "        padding=True,\n",
    "        truncation=True,\n",
    "        max_length=256  # Limit length for faster training\n",
    "    )\n",
    "\n",
    "print(\"Tokenizing training data...\", end='')\n",
    "train_encodings = tokenize_function(train_texts)\n",
    "print(\"Done!\")\n",
    "\n",
    "print(\"Tokenizing test data...\", end='')\n",
    "test_encodings = tokenize_function(test_texts)\n",
    "print(\"Done!\")\n",
    "\n",
    "# Create dataset objects\n",
    "train_dataset = Dataset.from_dict({\n",
    "    'input_ids': train_encodings['input_ids'],\n",
    "    'attention_mask': train_encodings['attention_mask'],\n",
    "    'labels': train_labels\n",
    "})\n",
    "\n",
    "test_dataset = Dataset.from_dict({\n",
    "    'input_ids': test_encodings['input_ids'],\n",
    "    'attention_mask': test_encodings['attention_mask'],\n",
    "    'labels': test_labels\n",
    "})\n",
    "\n",
    "print(f\"\\nDatasets created and ready for training!\")"
   ]
  },
  {
   "cell_type": "markdown",
   "metadata": {},
   "source": [
    "## Step 5: Set Training Parameters\n",
    "\n",
    "### Key Parameters Explained:\n",
    "\n",
    "| Parameter | What it does | Our Value | Why |\n",
    "|-----------|--------------|-----------|-----|\n",
    "| **Learning Rate** | How fast model learns | 2e-5 | Standard for BERT |\n",
    "| **Batch Size** | Samples processed together | 16 | Fits in memory |\n",
    "| **Epochs** | Complete passes through data | 3 | Good balance |\n",
    "| **Warmup Steps** | Gradual learning start | 500 | Prevents overfitting |"
   ]
  },
  {
   "cell_type": "code",
   "execution_count": 64,
   "metadata": {
    "execution": {
     "iopub.execute_input": "2025-09-11T04:50:29.411954Z",
     "iopub.status.busy": "2025-09-11T04:50:29.411630Z",
     "iopub.status.idle": "2025-09-11T04:50:29.439892Z",
     "shell.execute_reply": "2025-09-11T04:50:29.439387Z",
     "shell.execute_reply.started": "2025-09-11T04:50:29.411914Z"
    },
    "trusted": true
   },
   "outputs": [],
   "source": [
    "from transformers import TrainingArguments\n",
    "\n",
    "training_args = TrainingArguments(\n",
    "    output_dir='./results',\n",
    "    num_train_epochs=3,\n",
    "    per_device_train_batch_size=16,\n",
    "    per_device_eval_batch_size=32,\n",
    "    warmup_steps=500,\n",
    "    weight_decay=0.01,\n",
    "    logging_dir='./logs',\n",
    "    logging_steps=10,\n",
    "    eval_strategy=\"epoch\",     \n",
    "    save_strategy=\"epoch\",\n",
    "    load_best_model_at_end=True,\n",
    "    metric_for_best_model=\"eval_loss\",\n",
    "    greater_is_better=False,\n",
    "    push_to_hub=False,\n",
    "    report_to=\"none\",\n",
    ")\n"
   ]
  },
  {
   "cell_type": "markdown",
   "metadata": {},
   "source": [
    "## Step 6: Define Evaluation Metrics"
   ]
  },
  {
   "cell_type": "code",
   "execution_count": 65,
   "metadata": {
    "execution": {
     "iopub.execute_input": "2025-09-11T04:50:29.442185Z",
     "iopub.status.busy": "2025-09-11T04:50:29.441774Z",
     "iopub.status.idle": "2025-09-11T04:50:29.446782Z",
     "shell.execute_reply": "2025-09-11T04:50:29.445990Z",
     "shell.execute_reply.started": "2025-09-11T04:50:29.442168Z"
    },
    "trusted": true
   },
   "outputs": [
    {
     "name": "stdout",
     "output_type": "stream",
     "text": [
      "Evaluation metrics defined:\n",
      "   - Accuracy: Percentage of correct predictions\n",
      "   - Loss: How wrong the model's predictions are\n",
      "\n",
      "Goal: High accuracy, Low loss\n"
     ]
    }
   ],
   "source": [
    "# Define metrics computation\n",
    "def compute_metrics(eval_pred):\n",
    "    predictions, labels = eval_pred\n",
    "    predictions = np.argmax(predictions, axis=1)\n",
    "    \n",
    "    # Calculate accuracy\n",
    "    accuracy = accuracy_score(labels, predictions)\n",
    "    \n",
    "    return {\n",
    "        'accuracy': accuracy,\n",
    "    }\n",
    "\n",
    "print(\"Evaluation metrics defined:\")\n",
    "print(\"   - Accuracy: Percentage of correct predictions\")\n",
    "print(\"   - Loss: How wrong the model's predictions are\")\n",
    "print(\"\\nGoal: High accuracy, Low loss\")"
   ]
  },
  {
   "cell_type": "markdown",
   "metadata": {},
   "source": [
    "## Step 7: Create Trainer and Start Fine-Tuning!"
   ]
  },
  {
   "cell_type": "code",
   "execution_count": 66,
   "metadata": {
    "execution": {
     "iopub.execute_input": "2025-09-11T04:50:29.448022Z",
     "iopub.status.busy": "2025-09-11T04:50:29.447526Z",
     "iopub.status.idle": "2025-09-11T04:50:29.474406Z",
     "shell.execute_reply": "2025-09-11T04:50:29.473861Z",
     "shell.execute_reply.started": "2025-09-11T04:50:29.447997Z"
    },
    "trusted": true
   },
   "outputs": [
    {
     "name": "stdout",
     "output_type": "stream",
     "text": [
      "Trainer created and ready!\n",
      "\n",
      "============================================================\n",
      "         STARTING FINE-TUNING PROCESS\n",
      "============================================================\n",
      "\n",
      "This will take approximately 5-15 minutes...\n",
      "Good time for a coffee break!\n",
      "\n"
     ]
    }
   ],
   "source": [
    "# Create Trainer\n",
    "trainer = Trainer(\n",
    "    model=model,\n",
    "    args=training_args,\n",
    "    train_dataset=train_dataset,\n",
    "    eval_dataset=test_dataset,\n",
    "    tokenizer=tokenizer,\n",
    "    data_collator=DataCollatorWithPadding(tokenizer=tokenizer),\n",
    "    compute_metrics=compute_metrics,\n",
    ")\n",
    "\n",
    "print(\"Trainer created and ready!\")\n",
    "print(\"\\n\" + \"=\"*60)\n",
    "print(\"         STARTING FINE-TUNING PROCESS\")\n",
    "print(\"=\"*60)\n",
    "print(\"\\nThis will take approximately 5-15 minutes...\")\n",
    "print(\"Good time for a coffee break!\\n\")"
   ]
  },
  {
   "cell_type": "code",
   "execution_count": 67,
   "metadata": {
    "execution": {
     "iopub.execute_input": "2025-09-11T04:50:29.475118Z",
     "iopub.status.busy": "2025-09-11T04:50:29.474895Z",
     "iopub.status.idle": "2025-09-11T04:51:44.975397Z",
     "shell.execute_reply": "2025-09-11T04:51:44.974730Z",
     "shell.execute_reply.started": "2025-09-11T04:50:29.475103Z"
    },
    "trusted": true
   },
   "outputs": [
    {
     "data": {
      "text/html": [
       "\n",
       "    <div>\n",
       "      \n",
       "      <progress value='750' max='750' style='width:300px; height:20px; vertical-align: middle;'></progress>\n",
       "      [750/750 04:28, Epoch 3/3]\n",
       "    </div>\n",
       "    <table border=\"1\" class=\"dataframe\">\n",
       "  <thead>\n",
       " <tr style=\"text-align: left;\">\n",
       "      <th>Epoch</th>\n",
       "      <th>Training Loss</th>\n",
       "      <th>Validation Loss</th>\n",
       "      <th>Accuracy</th>\n",
       "    </tr>\n",
       "  </thead>\n",
       "  <tbody>\n",
       "    <tr>\n",
       "      <td>1</td>\n",
       "      <td>0.374600</td>\n",
       "      <td>0.314407</td>\n",
       "      <td>0.871000</td>\n",
       "    </tr>\n",
       "    <tr>\n",
       "      <td>2</td>\n",
       "      <td>0.254600</td>\n",
       "      <td>0.261766</td>\n",
       "      <td>0.899000</td>\n",
       "    </tr>\n",
       "    <tr>\n",
       "      <td>3</td>\n",
       "      <td>0.122800</td>\n",
       "      <td>0.286120</td>\n",
       "      <td>0.910000</td>\n",
       "    </tr>\n",
       "  </tbody>\n",
       "</table><p>"
      ],
      "text/plain": [
       "<IPython.core.display.HTML object>"
      ]
     },
     "metadata": {},
     "output_type": "display_data"
    },
    {
     "name": "stdout",
     "output_type": "stream",
     "text": [
      "\n",
      "============================================================\n",
      "         FINE-TUNING COMPLETE!\n",
      "============================================================\n",
      "\n",
      "Total training time: 4 minutes 29 seconds\n",
      "Final training loss: 0.3163\n",
      "Steps completed: 750\n"
     ]
    }
   ],
   "source": [
    "# Start training!\n",
    "import time\n",
    "start_time = time.time()\n",
    "\n",
    "# Train the model\n",
    "train_result = trainer.train()\n",
    "\n",
    "# Calculate training time\n",
    "training_time = time.time() - start_time\n",
    "minutes = int(training_time // 60)\n",
    "seconds = int(training_time % 60)\n",
    "\n",
    "print(\"\\n\" + \"=\"*60)\n",
    "print(\"         FINE-TUNING COMPLETE!\")\n",
    "print(\"=\"*60)\n",
    "print(f\"\\nTotal training time: {minutes} minutes {seconds} seconds\")\n",
    "print(f\"Final training loss: {train_result.training_loss:.4f}\")\n",
    "print(f\"Steps completed: {train_result.global_step}\")"
   ]
  },
  {
   "cell_type": "markdown",
   "metadata": {},
   "source": [
    "## Step 8: Evaluate Model Performance"
   ]
  },
  {
   "cell_type": "code",
   "execution_count": 68,
   "metadata": {
    "execution": {
     "iopub.execute_input": "2025-09-11T04:51:44.976420Z",
     "iopub.status.busy": "2025-09-11T04:51:44.976153Z",
     "iopub.status.idle": "2025-09-11T04:51:46.555488Z",
     "shell.execute_reply": "2025-09-11T04:51:46.554687Z",
     "shell.execute_reply.started": "2025-09-11T04:51:44.976397Z"
    },
    "trusted": true
   },
   "outputs": [
    {
     "name": "stdout",
     "output_type": "stream",
     "text": [
      "Evaluating model on test set...\n",
      "\n"
     ]
    },
    {
     "data": {
      "text/html": [],
      "text/plain": [
       "<IPython.core.display.HTML object>"
      ]
     },
     "metadata": {},
     "output_type": "display_data"
    },
    {
     "name": "stdout",
     "output_type": "stream",
     "text": [
      "EVALUATION RESULTS:\n",
      "========================================\n",
      "Accuracy: 89.90%\n",
      "Loss: 0.2618\n",
      "========================================\n"
     ]
    }
   ],
   "source": [
    "# Evaluate on test set\n",
    "print(\"Evaluating model on test set...\\n\")\n",
    "eval_results = trainer.evaluate()\n",
    "\n",
    "print(\"EVALUATION RESULTS:\")\n",
    "print(\"=\"*40)\n",
    "print(f\"Accuracy: {eval_results['eval_accuracy']*100:.2f}%\")\n",
    "print(f\"Loss: {eval_results['eval_loss']:.4f}\")\n",
    "print(\"=\"*40)"
   ]
  },
  {
   "cell_type": "code",
   "execution_count": 69,
   "metadata": {
    "execution": {
     "iopub.execute_input": "2025-09-11T04:51:46.556727Z",
     "iopub.status.busy": "2025-09-11T04:51:46.556435Z",
     "iopub.status.idle": "2025-09-11T04:51:48.290093Z",
     "shell.execute_reply": "2025-09-11T04:51:48.289477Z",
     "shell.execute_reply.started": "2025-09-11T04:51:46.556704Z"
    },
    "trusted": true
   },
   "outputs": [
    {
     "data": {
      "image/png": "[encoded data removed]",
      "text/plain": [
       "<Figure size 800x600 with 2 Axes>"
      ]
     },
     "metadata": {},
     "output_type": "display_data"
    },
    {
     "name": "stdout",
     "output_type": "stream",
     "text": [
      "\n",
      "Detailed Classification Report:\n",
      "==================================================\n",
      "              precision    recall  f1-score   support\n",
      "\n",
      "    Negative      0.862     0.953     0.905       506\n",
      "    Positive      0.946     0.844     0.892       494\n",
      "\n",
      "    accuracy                          0.899      1000\n",
      "   macro avg      0.904     0.898     0.899      1000\n",
      "weighted avg      0.903     0.899     0.899      1000\n",
      "\n"
     ]
    }
   ],
   "source": [
    "# Get predictions for confusion matrix\n",
    "predictions = trainer.predict(test_dataset)\n",
    "y_pred = np.argmax(predictions.predictions, axis=1)\n",
    "y_true = predictions.label_ids\n",
    "\n",
    "# Create confusion matrix\n",
    "cm = confusion_matrix(y_true, y_pred)\n",
    "\n",
    "# Visualize confusion matrix\n",
    "plt.figure(figsize=(8, 6))\n",
    "sns.heatmap(cm, annot=True, fmt='d', cmap='Blues', \n",
    "            xticklabels=['Negative', 'Positive'],\n",
    "            yticklabels=['Negative', 'Positive'])\n",
    "plt.title('Confusion Matrix - Model Performance', fontsize=14, fontweight='bold')\n",
    "plt.ylabel('True Label')\n",
    "plt.xlabel('Predicted Label')\n",
    "plt.show()\n",
    "\n",
    "# Classification report\n",
    "print(\"\\nDetailed Classification Report:\")\n",
    "print(\"=\"*50)\n",
    "print(classification_report(y_true, y_pred, \n",
    "                          target_names=['Negative', 'Positive'],\n",
    "                          digits=3))"
   ]
  },
  {
   "cell_type": "markdown",
   "metadata": {},
   "source": [
    "## Step 9: Test with Custom Examples"
   ]
  },
  {
   "cell_type": "code",
   "execution_count": 70,
   "metadata": {
    "execution": {
     "iopub.execute_input": "2025-09-11T04:51:48.291056Z",
     "iopub.status.busy": "2025-09-11T04:51:48.290789Z",
     "iopub.status.idle": "2025-09-11T04:51:48.376258Z",
     "shell.execute_reply": "2025-09-11T04:51:48.375632Z",
     "shell.execute_reply.started": "2025-09-11T04:51:48.291019Z"
    },
    "trusted": true
   },
   "outputs": [
    {
     "name": "stdout",
     "output_type": "stream",
     "text": [
      "TESTING WITH CUSTOM REVIEWS\n",
      "\n",
      "======================================================================\n",
      "Review: \"This movie was absolutely amazing! Best film I've seen all y...\"\n",
      "Prediction: POSITIVE\n",
      "Confidence: 98.6%\n",
      "Scores: [Negative: 1.4%, Positive: 98.6%]\n",
      "----------------------------------------------------------------------\n",
      "Review: \"Terrible waste of time. I want my money back.\"\n",
      "Prediction: NEGATIVE\n",
      "Confidence: 97.8%\n",
      "Scores: [Negative: 97.8%, Positive: 2.2%]\n",
      "----------------------------------------------------------------------\n",
      "Review: \"The acting was okay but the plot was confusing.\"\n",
      "Prediction: NEGATIVE\n",
      "Confidence: 92.9%\n",
      "Scores: [Negative: 92.9%, Positive: 7.1%]\n",
      "----------------------------------------------------------------------\n",
      "Review: \"Masterpiece! Every scene was perfectly crafted.\"\n",
      "Prediction: POSITIVE\n",
      "Confidence: 98.9%\n",
      "Scores: [Negative: 1.1%, Positive: 98.9%]\n",
      "----------------------------------------------------------------------\n",
      "Review: \"I fell asleep halfway through. So boring.\"\n",
      "Prediction: NEGATIVE\n",
      "Confidence: 97.9%\n",
      "Scores: [Negative: 97.9%, Positive: 2.1%]\n",
      "----------------------------------------------------------------------\n",
      "Review: \"Not bad, but not great either. Just average.\"\n",
      "Prediction: NEGATIVE\n",
      "Confidence: 77.3%\n",
      "Scores: [Negative: 77.3%, Positive: 22.7%]\n",
      "----------------------------------------------------------------------\n"
     ]
    }
   ],
   "source": [
    "def predict_sentiment(text, model, tokenizer):\n",
    "    \"\"\"\n",
    "    Predict sentiment for a given text\n",
    "    \"\"\"\n",
    "    # Tokenize\n",
    "    inputs = tokenizer(text, return_tensors=\"pt\", \n",
    "                      truncation=True, padding=True, \n",
    "                      max_length=256)\n",
    "    inputs = {k: v.to(device) for k, v in inputs.items()}\n",
    "    \n",
    "    # Get prediction\n",
    "    with torch.no_grad():\n",
    "        outputs = model(**inputs)\n",
    "    \n",
    "    # Get probabilities\n",
    "    probs = torch.nn.functional.softmax(outputs.logits, dim=-1)\n",
    "    prediction = torch.argmax(probs, dim=-1)\n",
    "    \n",
    "    # Get confidence\n",
    "    confidence = probs[0][prediction].item()\n",
    "    \n",
    "    # Map to label\n",
    "    sentiment = \"POSITIVE\" if prediction.item() == 1 else \"NEGATIVE\"\n",
    "    \n",
    "    return sentiment, confidence, probs[0].cpu().numpy()\n",
    "\n",
    "# Test with custom examples\n",
    "test_reviews = [\n",
    "    \"This movie was absolutely amazing! Best film I've seen all year!\",\n",
    "    \"Terrible waste of time. I want my money back.\",\n",
    "    \"The acting was okay but the plot was confusing.\",\n",
    "    \"Masterpiece! Every scene was perfectly crafted.\",\n",
    "    \"I fell asleep halfway through. So boring.\",\n",
    "    \"Not bad, but not great either. Just average.\",\n",
    "]\n",
    "\n",
    "print(\"TESTING WITH CUSTOM REVIEWS\\n\")\n",
    "print(\"=\"*70)\n",
    "\n",
    "for review in test_reviews:\n",
    "    sentiment, confidence, probs = predict_sentiment(review, model, tokenizer)\n",
    "    \n",
    "    print(f\"Review: \\\"{review[:60]}...\\\"\" if len(review) > 60 else f\"Review: \\\"{review}\\\"\")\n",
    "    print(f\"Prediction: {sentiment}\")\n",
    "    print(f\"Confidence: {confidence*100:.1f}%\")\n",
    "    print(f\"Scores: [Negative: {probs[0]*100:.1f}%, Positive: {probs[1]*100:.1f}%]\")\n",
    "    print(\"-\"*70)"
   ]
  },
  {
   "cell_type": "markdown",
   "metadata": {},
   "source": [
    "## Performance Comparison\n",
    "\n",
    "### Let's visualize how fine-tuning improved the model:"
   ]
  },
  {
   "cell_type": "code",
   "execution_count": 71,
   "metadata": {
    "execution": {
     "iopub.execute_input": "2025-09-11T04:53:23.982432Z",
     "iopub.status.busy": "2025-09-11T04:53:23.982225Z",
     "iopub.status.idle": "2025-09-11T04:53:24.302748Z",
     "shell.execute_reply": "2025-09-11T04:53:24.302041Z",
     "shell.execute_reply.started": "2025-09-11T04:53:23.982415Z"
    },
    "trusted": true
   },
   "outputs": [
    {
     "data": {
      "image/png": "[encoded data removed]",
      "text/plain": [
       "<Figure size 1400x500 with 2 Axes>"
      ]
     },
     "metadata": {},
     "output_type": "display_data"
    },
    {
     "name": "stdout",
     "output_type": "stream",
     "text": [
      "\n",
      "Performance Improvement: 19.9% better than generic model!\n"
     ]
    }
   ],
   "source": [
    "# Create a comparison visualization\n",
    "fig, axes = plt.subplots(1, 2, figsize=(14, 5))\n",
    "\n",
    "# Before vs After accuracy (simulated for demonstration)\n",
    "categories = ['Generic Model\\n(Before)', 'Fine-tuned Model\\n(After)']\n",
    "accuracies = [0.75, eval_results['eval_accuracy']]  # Generic model typically ~75%\n",
    "\n",
    "bars = axes[0].bar(categories, accuracies, color=['#95a5a6', '#2ecc71'])\n",
    "axes[0].set_ylim([0, 1])\n",
    "axes[0].set_ylabel('Accuracy')\n",
    "axes[0].set_title('Model Performance: Before vs After Fine-tuning', fontweight='bold')\n",
    "\n",
    "# Add percentage labels on bars\n",
    "for bar, acc in zip(bars, accuracies):\n",
    "    height = bar.get_height()\n",
    "    axes[0].text(bar.get_x() + bar.get_width()/2., height,\n",
    "                f'{acc*100:.1f}%', ha='center', va='bottom', fontweight='bold')\n",
    "\n",
    "# Training progress (if we had logged it)\n",
    "epochs = range(1, training_args.num_train_epochs + 1)\n",
    "# Simulated loss curve\n",
    "train_losses = [0.7, 0.4, 0.2]  # Typical loss progression\n",
    "\n",
    "axes[1].plot(epochs, train_losses, 'o-', linewidth=2, markersize=8, color='#e74c3c')\n",
    "axes[1].set_xlabel('Epoch')\n",
    "axes[1].set_ylabel('Loss')\n",
    "axes[1].set_title('Training Progress: Loss over Epochs', fontweight='bold')\n",
    "axes[1].grid(True, alpha=0.3)\n",
    "\n",
    "plt.suptitle('Fine-tuning Impact Visualization', fontsize=14, fontweight='bold')\n",
    "plt.tight_layout()\n",
    "plt.show()\n",
    "\n",
    "improvement = (eval_results['eval_accuracy'] - 0.75) / 0.75 * 100\n",
    "print(f\"\\nPerformance Improvement: {improvement:.1f}% better than generic model!\")"
   ]
  },
  {
   "cell_type": "markdown",
   "metadata": {},
   "source": [
    "## Final Summary & Key Takeaways\n",
    "\n",
    "### What We Accomplished:\n",
    "\n",
    "- **Loaded** a pre-trained DistilBERT model\n",
    "- **Prepared** IMDB movie review data\n",
    "- **Fine-tuned** the model on our specific task\n",
    "- **Evaluated** performance (achieved ~{accuracy}% accuracy)\n",
    "- **Tested** with custom examples\n",
    "\n",
    "### Key Concepts Learned:\n",
    "\n",
    "1. **Transfer Learning** - Using pre-trained knowledge\n",
    "2. **Tokenization** - Converting text to numbers\n",
    "3. **Training Loop** - Epochs, batches, loss\n",
    "4. **Evaluation** - Accuracy, confusion matrix\n",
    "\n",
    "### What's Next?\n",
    "\n",
    "You can now:\n",
    "- Fine-tune models for YOUR specific data\n",
    "- Try different pre-trained models (BERT, RoBERTa, etc.)\n",
    "- Experiment with different parameters\n",
    "- Build domain-specific solutions"
   ]
  }
 ],
 "metadata": {
  "kaggle": {
   "accelerator": "none",
   "dataSources": [],
   "isGpuEnabled": false,
   "isInternetEnabled": true,
   "language": "python",
   "sourceType": "notebook"
  },
  "kernelspec": {
   "display_name": "Python 3",
   "language": "python",
   "name": "python3"
  },
  "language_info": {
   "codemirror_mode": {
    "name": "ipython",
    "version": 3
   },
   "file_extension": ".py",
   "mimetype": "text/x-python",
   "name": "python",
   "nbconvert_exporter": "python",
   "pygments_lexer": "ipython3",
   "version": "3.9.6"
  }
 },
 "nbformat": 4,
 "nbformat_minor": 4
}
